{
 "cells": [
  {
   "cell_type": "code",
   "execution_count": 1,
   "id": "b598a8a0",
   "metadata": {},
   "outputs": [],
   "source": [
    "import pandas as pd\n",
    "directory = \"../Analysis Data/\""
   ]
  },
  {
   "cell_type": "code",
   "execution_count": 53,
   "id": "abdfd83c",
   "metadata": {},
   "outputs": [
    {
     "name": "stdout",
     "output_type": "stream",
     "text": [
      "       country  year  sex age  cases\n",
      "0           AD  1989  NaN   -      0\n",
      "1           AD  1990  NaN   -      0\n",
      "2           AD  1991  NaN   -      0\n",
      "3           AD  1992  NaN   -      0\n",
      "4           AD  1993  NaN   -     15\n",
      "...        ...   ...  ...  ..    ...\n",
      "121144      ZW  2004    f  -u      0\n",
      "121145      ZW  2005    f  -u      0\n",
      "121146      ZW  2006    f  -u      0\n",
      "121147      ZW  2007    f  -u      0\n",
      "121148      ZW  2008    f  -u      0\n",
      "\n",
      "[121149 rows x 5 columns]\n"
     ]
    }
   ],
   "source": [
    "tb = pd.read_csv(f\"{directory}tb.csv\")\n",
    "tb.fillna(0, inplace=True)\n",
    "tb.drop(columns=['new_sp', 'new_sp_f514', 'new_sp_m04', 'new_sp_m514', 'new_sp_fu', 'new_sp_mu'], inplace=True)\n",
    "tb.rename(columns = {'iso2': 'country'}, inplace=True)\n",
    "tb = tb.melt(['country', 'year'], tb.columns[2:])\n",
    "tb['variable'] = tb.variable.str[7:]\n",
    "tb['sex'] = tb.variable.str[0]\n",
    "tb['age'] = tb.variable.str[1:]\n",
    "tb['age'] = tb.age.apply(lambda x: '65+' if x == '65' else x[:-2] + '-' + x[-2:])\n",
    "tb['cases'] = tb['value'].astype(int)\n",
    "tb.drop(columns=['variable','value'], inplace=True)\n",
    "print(tb)"
   ]
  },
  {
   "cell_type": "code",
   "execution_count": null,
   "id": "03adfef5",
   "metadata": {},
   "outputs": [],
   "source": []
  }
 ],
 "metadata": {
  "kernelspec": {
   "display_name": "Python 3 (ipykernel)",
   "language": "python",
   "name": "python3"
  },
  "language_info": {
   "codemirror_mode": {
    "name": "ipython",
    "version": 3
   },
   "file_extension": ".py",
   "mimetype": "text/x-python",
   "name": "python",
   "nbconvert_exporter": "python",
   "pygments_lexer": "ipython3",
   "version": "3.9.13"
  }
 },
 "nbformat": 4,
 "nbformat_minor": 5
}
