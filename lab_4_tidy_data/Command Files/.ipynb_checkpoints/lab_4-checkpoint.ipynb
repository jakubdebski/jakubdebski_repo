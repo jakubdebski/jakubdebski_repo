{
 "cells": [
  {
   "cell_type": "code",
   "execution_count": 2,
   "id": "b598a8a0",
   "metadata": {},
   "outputs": [],
   "source": [
    "import pandas as pd\n",
    "directory = \"../Analysis Data/\""
   ]
  },
  {
   "cell_type": "code",
   "execution_count": 3,
   "id": "abdfd83c",
   "metadata": {},
   "outputs": [
    {
     "name": "stdout",
     "output_type": "stream",
     "text": [
      "     iso2  year   new_sp  new_sp_m04  new_sp_m514  new_sp_m014  new_sp_m1524  \\\n",
      "0      AD  1989      NaN         NaN          NaN          NaN           NaN   \n",
      "1      AD  1990      NaN         NaN          NaN          NaN           NaN   \n",
      "2      AD  1991      NaN         NaN          NaN          NaN           NaN   \n",
      "3      AD  1992      NaN         NaN          NaN          NaN           NaN   \n",
      "4      AD  1993     15.0         NaN          NaN          NaN           NaN   \n",
      "...   ...   ...      ...         ...          ...          ...           ...   \n",
      "5764   ZW  2004  14581.0         NaN          NaN        187.0         833.0   \n",
      "5765   ZW  2005  13155.0         NaN          NaN        210.0         837.0   \n",
      "5766   ZW  2006  12718.0         NaN          NaN        215.0         736.0   \n",
      "5767   ZW  2007  10583.0         6.0        132.0        138.0         500.0   \n",
      "5768   ZW  2008   9830.0         NaN          NaN        127.0         614.0   \n",
      "\n",
      "      new_sp_m2534  new_sp_m3544  new_sp_m4554  ...  new_sp_f04  new_sp_f514  \\\n",
      "0              NaN           NaN           NaN  ...         NaN          NaN   \n",
      "1              NaN           NaN           NaN  ...         NaN          NaN   \n",
      "2              NaN           NaN           NaN  ...         NaN          NaN   \n",
      "3              NaN           NaN           NaN  ...         NaN          NaN   \n",
      "4              NaN           NaN           NaN  ...         NaN          NaN   \n",
      "...            ...           ...           ...  ...         ...          ...   \n",
      "5764        2908.0        2298.0        1056.0  ...         NaN          NaN   \n",
      "5765        2264.0        1855.0         762.0  ...         NaN          NaN   \n",
      "5766        2391.0        1939.0         896.0  ...         NaN          NaN   \n",
      "5767        3693.0           0.0         716.0  ...         7.0        178.0   \n",
      "5768           0.0        3316.0         704.0  ...         NaN          NaN   \n",
      "\n",
      "      new_sp_f014  new_sp_f1524  new_sp_f2534  new_sp_f3544  new_sp_f4554  \\\n",
      "0             NaN           NaN           NaN           NaN           NaN   \n",
      "1             NaN           NaN           NaN           NaN           NaN   \n",
      "2             NaN           NaN           NaN           NaN           NaN   \n",
      "3             NaN           NaN           NaN           NaN           NaN   \n",
      "4             NaN           NaN           NaN           NaN           NaN   \n",
      "...           ...           ...           ...           ...           ...   \n",
      "5764        225.0        1140.0        2858.0        1565.0         622.0   \n",
      "5765        269.0        1136.0        2242.0        1255.0         578.0   \n",
      "5766        237.0        1020.0        2424.0        1355.0         632.0   \n",
      "5767        185.0         739.0        3311.0           0.0         553.0   \n",
      "5768        145.0         840.0           0.0        2890.0         467.0   \n",
      "\n",
      "      new_sp_f5564  new_sp_f65  new_sp_fu  \n",
      "0              NaN         NaN        NaN  \n",
      "1              NaN         NaN        NaN  \n",
      "2              NaN         NaN        NaN  \n",
      "3              NaN         NaN        NaN  \n",
      "4              NaN         NaN        NaN  \n",
      "...            ...         ...        ...  \n",
      "5764         214.0       111.0        NaN  \n",
      "5765         193.0       603.0        NaN  \n",
      "5766         230.0        96.0        NaN  \n",
      "5767         213.0        90.0        NaN  \n",
      "5768         174.0       105.0        0.0  \n",
      "\n",
      "[5769 rows x 23 columns]\n"
     ]
    }
   ],
   "source": [
    "tb = pd.read_csv(f\"{directory}tb.csv\")\n",
    "print(tb)"
   ]
  },
  {
   "cell_type": "code",
   "execution_count": null,
   "id": "03adfef5",
   "metadata": {},
   "outputs": [],
   "source": []
  }
 ],
 "metadata": {
  "kernelspec": {
   "display_name": "Python 3 (ipykernel)",
   "language": "python",
   "name": "python3"
  },
  "language_info": {
   "codemirror_mode": {
    "name": "ipython",
    "version": 3
   },
   "file_extension": ".py",
   "mimetype": "text/x-python",
   "name": "python",
   "nbconvert_exporter": "python",
   "pygments_lexer": "ipython3",
   "version": "3.9.13"
  }
 },
 "nbformat": 4,
 "nbformat_minor": 5
}
