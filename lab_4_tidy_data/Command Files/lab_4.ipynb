{
 "cells": [
  {
   "cell_type": "code",
   "execution_count": 1,
   "id": "b598a8a0",
   "metadata": {},
   "outputs": [],
   "source": [
    "import pandas as pd\n",
    "directory = \"../Analysis Data/\""
   ]
  },
  {
   "cell_type": "code",
   "execution_count": 69,
   "id": "abdfd83c",
   "metadata": {},
   "outputs": [
    {
     "name": "stdout",
     "output_type": "stream",
     "text": [
      "      country  year sex   age  cases\n",
      "0          AD  1989   m  0-14      0\n",
      "1          AD  1990   m  0-14      0\n",
      "2          AD  1991   m  0-14      0\n",
      "3          AD  1992   m  0-14      0\n",
      "4          AD  1993   m  0-14      0\n",
      "...       ...   ...  ..   ...    ...\n",
      "80761      ZW  2004   f   65+    111\n",
      "80762      ZW  2005   f   65+    603\n",
      "80763      ZW  2006   f   65+     96\n",
      "80764      ZW  2007   f   65+     90\n",
      "80765      ZW  2008   f   65+    105\n",
      "\n",
      "[80766 rows x 5 columns]\n"
     ]
    }
   ],
   "source": [
    "tb = pd.read_csv(f\"{directory}tb.csv\")\n",
    "\n",
    "# wszystkie instrukcje są dobrane tak, aby:\n",
    "# - każda zmienna tworzyła kolumnę\n",
    "# - każda obserwacja tworzyła rząd\n",
    "# - każdy typ jednostki obserwacyjnej tworzył tabelę\n",
    "\n",
    "# zastąpienie NaN zerami\n",
    "tb.fillna(0, inplace=True)\n",
    "\n",
    "# wyrzucenie kolumn, które nie pasują do reszty\n",
    "tb.drop(columns=['new_sp','new_sp_f04', 'new_sp_f514', 'new_sp_m04', 'new_sp_m514', 'new_sp_fu', 'new_sp_mu'], inplace=True)\n",
    "\n",
    "# zmiana nazwy kolumny iso2 na country\n",
    "tb.rename(columns = {'iso2': 'country'}, inplace=True)\n",
    "\n",
    "# melting\n",
    "tb = tb.melt(['country', 'year'], tb.columns[2:])\n",
    "\n",
    "# usunięcie napisu \"new_sp_\" z każdej pozycji w kolumnie \"variable\"\n",
    "tb['variable'] = tb.variable.str[7:]\n",
    "\n",
    "# stworzenie dwóch kolumn sex i age z odpowiednimi wartościami\n",
    "tb['sex'] = tb.variable.str[0]\n",
    "tb['age'] = tb.variable.str[1:]\n",
    "\n",
    "# uporządkowanie kolumny \"age\"\n",
    "tb['age'] = tb.age.apply(lambda x: '65+' if x == '65' else x[:-2] + '-' + x[-2:])\n",
    "\n",
    "# zliczenie odpowiednich danych\n",
    "tb['cases'] = tb['value'].astype(int)\n",
    "\n",
    "\n",
    "tb.drop(columns=['variable','value'], inplace=True)\n",
    "print(tb)"
   ]
  },
  {
   "cell_type": "code",
   "execution_count": null,
   "id": "03adfef5",
   "metadata": {},
   "outputs": [],
   "source": []
  }
 ],
 "metadata": {
  "kernelspec": {
   "display_name": "Python 3 (ipykernel)",
   "language": "python",
   "name": "python3"
  },
  "language_info": {
   "codemirror_mode": {
    "name": "ipython",
    "version": 3
   },
   "file_extension": ".py",
   "mimetype": "text/x-python",
   "name": "python",
   "nbconvert_exporter": "python",
   "pygments_lexer": "ipython3",
   "version": "3.9.13"
  }
 },
 "nbformat": 4,
 "nbformat_minor": 5
}
